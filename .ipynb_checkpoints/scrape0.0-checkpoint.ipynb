{
 "cells": [
  {
   "cell_type": "code",
   "execution_count": null,
   "metadata": {},
   "outputs": [],
   "source": [
    "#bal bLA"
   ]
  },
  {
   "cell_type": "code",
   "execution_count": null,
   "metadata": {},
   "outputs": [],
   "source": [
    "import re\n",
    "stri=''\n",
    "with open('/home/space/Documents/text/AA/wiki_00') as f:\n",
    "    for line in f:\n",
    "        rpl=re.sub(r'<.*>','',line.strip())\n",
    "        if rpl:\n",
    "            \n",
    "            stri=stri+rpl+' '"
   ]
  },
  {
   "cell_type": "code",
   "execution_count": null,
   "metadata": {},
   "outputs": [],
   "source": [
    "absolutestring = stri"
   ]
  },
  {
   "cell_type": "code",
   "execution_count": null,
   "metadata": {},
   "outputs": [],
   "source": [
    "stri=stri+rpl\n",
    "stri = re.sub(r'\\d|\\(|\\)|\\-','',stri)\n",
    "stri = re.sub(r'[A-Za-z]','',stri)\n",
    "#stri = re.sub(r'[\\u200a-\\u200f\\'!\"#$%&\\'()*+\\-/:,;<=>?@\\[\\\\\\]^_`{|}~]','',stri)\n",
    "stri = re.sub(r'[\\u200a-\\u200f]','',stri)\n",
    "\n",
    "stri = re.sub(r'\\s\\.\\s',' ',stri)\n",
    "stri = re.sub(r'(\\..{0,2}\\.)|(\\s.{0,2}\\.)',' ',stri)\n",
    "stri = re.sub(r'(\\s.{2}\\.)|(\\s.{0,2}\\s)|(\\s.{0,2}\\.)',' ',stri)\n",
    "stri = re.sub(r'(\\..{0,2}\\.)|(\\s.{0,2}\\.)',' ',stri)\n",
    "stri = re.sub(r'(\\s.{2}\\.)|(\\s.{0,2}\\s)|(\\s.{0,2}\\.)',' ',stri)\n",
    "stri = re.sub(r'\\s\\.\\s',' ',stri)\n",
    "stri = re.sub(' +',' ',stri)\n",
    "stri = re.split(r'(?<=[\\u0d00-\\u0d7f]{3})\\.', stri)\n",
    "\n",
    "     "
   ]
  },
  {
   "cell_type": "code",
   "execution_count": null,
   "metadata": {},
   "outputs": [],
   "source": [
    "strvec=[]\n",
    "for i in stri:\n",
    "        strvec.append((i.strip()).split(' '))"
   ]
  },
  {
   "cell_type": "code",
   "execution_count": null,
   "metadata": {},
   "outputs": [],
   "source": []
  },
  {
   "cell_type": "code",
   "execution_count": null,
   "metadata": {},
   "outputs": [],
   "source": []
  },
  {
   "cell_type": "code",
   "execution_count": null,
   "metadata": {},
   "outputs": [],
   "source": []
  },
  {
   "cell_type": "markdown",
   "metadata": {},
   "source": [
    "# counter"
   ]
  },
  {
   "cell_type": "markdown",
   "metadata": {},
   "source": [
    "# ngram"
   ]
  },
  {
   "cell_type": "markdown",
   "metadata": {},
   "source": [
    "# levenshtein"
   ]
  },
  {
   "cell_type": "markdown",
   "metadata": {},
   "source": [
    "# sentence_length"
   ]
  },
  {
   "cell_type": "code",
   "execution_count": null,
   "metadata": {},
   "outputs": [],
   "source": [
    "for i in range(len(strvec)):\n",
    "    print(i,len(strvec[i]),strvec[i])\n",
    "    #newvec.append((i,len(strvec[i]),strvec[i])\n",
    "    "
   ]
  },
  {
   "cell_type": "markdown",
   "metadata": {},
   "source": [
    "# wordlength"
   ]
  },
  {
   "cell_type": "code",
   "execution_count": null,
   "metadata": {},
   "outputs": [],
   "source": [
    "for i in range(len(strvec)):\n",
    "    for j in range(len(strvec[i])):\n",
    "        print(i,j,len(strvec[i][j]),strvec[i][j])\n",
    "            "
   ]
  },
  {
   "cell_type": "markdown",
   "metadata": {},
   "source": [
    "# punctuation and count"
   ]
  },
  {
   "cell_type": "code",
   "execution_count": null,
   "metadata": {},
   "outputs": [],
   "source": [
    "import string\n",
    "punstr = string.punctuation\n",
    "for i in punstr:\n",
    "    print(i,absolutestring.count(i))"
   ]
  },
  {
   "cell_type": "code",
   "execution_count": null,
   "metadata": {},
   "outputs": [],
   "source": []
  },
  {
   "cell_type": "code",
   "execution_count": null,
   "metadata": {},
   "outputs": [],
   "source": []
  },
  {
   "cell_type": "code",
   "execution_count": null,
   "metadata": {},
   "outputs": [],
   "source": []
  },
  {
   "cell_type": "code",
   "execution_count": null,
   "metadata": {},
   "outputs": [],
   "source": []
  },
  {
   "cell_type": "code",
   "execution_count": null,
   "metadata": {},
   "outputs": [],
   "source": []
  },
  {
   "cell_type": "code",
   "execution_count": null,
   "metadata": {},
   "outputs": [],
   "source": [
    "newvec=[2924,11,['ഇന്ത്യ', 'ഈയടുത്ത', 'ദശകങ്ങളിൽ', 'പോഷണക്കുറവുകാരണമുള്ള', 'വിളർച്ച', 'ഒഴിവാക്കിയെങ്കിലും,', 'പകുതിയിലേറെ', 'കുട്ടികളും', 'ശരാശരി', 'തൂക്കത്തിനു', 'താഴെയാണ്']]\n"
   ]
  },
  {
   "cell_type": "code",
   "execution_count": null,
   "metadata": {},
   "outputs": [],
   "source": [
    "newvec"
   ]
  },
  {
   "cell_type": "code",
   "execution_count": null,
   "metadata": {},
   "outputs": [],
   "source": []
  },
  {
   "cell_type": "code",
   "execution_count": null,
   "metadata": {},
   "outputs": [],
   "source": []
  },
  {
   "cell_type": "code",
   "execution_count": null,
   "metadata": {},
   "outputs": [],
   "source": [
    "listone = 'നദിയുടെ നീളം മീ. ആണ് തടപ്രദേശം നെടുമങ്ങാട് നെയ്യാറ്റിൻകര എന്നീ താലൂക്കുകളിലായി വ്യാപ്തിയിൽ കിടക്കുന്നു. നദിയിൽ കള്ളിക്കാട്ട് ജലസേചനം ലക്ഷ്യമാക്കി ഒരു അണക്കെട്ട് നിർമിച്ചിട്ടുണ്ട്. പടിഞ്ഞാറോട്ടൊഴുകുന്ന രണ്ട് ചെറുനദികൾ കൂടി ജില്ലയെ ജലസിക്തമാക്കുന്നു. ഇവയിൽ ആദ്യത്തേതായ മാമംആറ് പന്തലക്കോട്ടുകുന്നുകളിൽ ഉദ്ഭവിച്ച് മീ. ഒഴുകി അഞ്ചുതെങ്ങ്കായലിൽ പതിക്കുന്നു. നദിയിൽ നിന്ന് കൂന്തളൂർ വച്ചു പിരിയുന്ന ഒരു കൈവഴി വാമനപുരം ആറ്റിലേക്ക് ഒഴുകുന്നുണ്ട്.'\n",
    "listone = re.sub(r'(\\..{0,2}\\.)|(\\s.{0,2}\\.)',' ',listone)\n",
    "listone = re.sub(r'(\\s.{2}\\.)|(\\s.{0,2}\\s)|(\\s.{0,2}\\.)',' ',listone)\n",
    "listone = re.sub(' +',' ',listone)\n",
    "print(listone)\n"
   ]
  },
  {
   "cell_type": "code",
   "execution_count": null,
   "metadata": {},
   "outputs": [],
   "source": [
    "for i in range(len(listone)):\n",
    "    if len(listone[i]) < 2:\n",
    "        del listone[1]"
   ]
  },
  {
   "cell_type": "code",
   "execution_count": null,
   "metadata": {},
   "outputs": [],
   "source": [
    "listone"
   ]
  },
  {
   "cell_type": "code",
   "execution_count": null,
   "metadata": {},
   "outputs": [],
   "source": []
  },
  {
   "cell_type": "code",
   "execution_count": null,
   "metadata": {},
   "outputs": [],
   "source": []
  },
  {
   "cell_type": "code",
   "execution_count": null,
   "metadata": {},
   "outputs": [],
   "source": []
  },
  {
   "cell_type": "code",
   "execution_count": null,
   "metadata": {},
   "outputs": [],
   "source": [
    "'േമാചിപ്പിക്ക്'.encode('unicode-escape')"
   ]
  },
  {
   "cell_type": "code",
   "execution_count": null,
   "metadata": {},
   "outputs": [],
   "source": [
    "u'\\u0d2e\\u0d47\\u0d3e\\u0d1a\\u0d3f\\u0d2a\\u0d4d\\u0d2a\\u0d3f\\u0d15\\u0d4d\\u0d15\\u0d4d'"
   ]
  },
  {
   "cell_type": "code",
   "execution_count": null,
   "metadata": {},
   "outputs": [],
   "source": []
  },
  {
   "cell_type": "code",
   "execution_count": null,
   "metadata": {},
   "outputs": [],
   "source": [
    "stri = re.sub(r'\\b\\w{1,3}\\b','',stri)"
   ]
  },
  {
   "cell_type": "code",
   "execution_count": null,
   "metadata": {},
   "outputs": [],
   "source": [
    "import os\n",
    "filelist=[]\n",
    "stri=''\n",
    "for root, dirs, files in os.walk(\"/home/space/Documents/text\"):\n",
    "    for file in files:\n",
    "        path=os.path.join(root,file)\n",
    "        with open(path) as f:\n",
    "            for line in f:\n",
    "                rpl=re.sub(r'<.*>','',line.strip())\n",
    "                if rpl:\n",
    "                    stri=stri+rpl\n",
    "        \n",
    "import re\n",
    "stri=stri+rpl\n",
    "stri = re.sub(r'\\d|\\(|\\)|\\-','',stri)\n",
    "stri = re.sub(r'[A-Za-z]','',stri)\n",
    "stri = re.sub(r'[\\u200a-\\u200f\\'!\"#$%&\\'()*+\\-/:,;<=>?@\\[\\\\\\]^_`{|}~]','',stri)\n",
    "stri = re.sub(r'\\s\\.\\s',' ',stri)\n",
    "stri = re.sub(r'(\\..{0,2}\\.)|(\\s.{0,2}\\.)',' ',stri)\n",
    "stri = re.sub(r'(\\s.{2}\\.)|(\\s.{0,2}\\s)|(\\s.{0,2}\\.)',' ',stri)\n",
    "stri = re.sub(r'(\\..{0,2}\\.)|(\\s.{0,2}\\.)',' ',stri)\n",
    "stri = re.sub(r'(\\s.{2}\\.)|(\\s.{0,2}\\s)|(\\s.{0,2}\\.)',' ',stri)\n",
    "stri = re.sub(r'\\s\\.\\s',' ',stri)\n",
    "stri = re.sub(' +',' ',stri)\n",
    "stri = re.split(r'(?<=[\\u0d00-\\u0d7f]{3})\\.', stri)\n",
    "strvec=[]\n",
    "for i in stri:\n",
    "        strvec.append((i.strip()).split(' '))\n",
    "for i in range(len(strvec)):\n",
    "    if len(strvec[i]) <= 2:\n",
    "        strvec[i-1] = strvec[i-1]+strvec[i]\n",
    "del_elmnt=[]\n",
    "for i in range(len(strvec)):\n",
    "    if len(strvec[i]) <= 2:\n",
    "        del_elmnt.append(i)\n",
    "for j in reversed(del_elmnt):\n",
    "    del strvec[j]\n",
    "del_elm=[]\n",
    "for i in range(len(strvec)):\n",
    "    for j in range(len(strvec[i])):\n",
    "        if len(strvec[i][j]) <= 2:\n",
    "            del_elm.append([i,j])\n",
    "for i in reversed(del_elm):\n",
    "    del strvec[i[0]][i[1]] \n",
    "    "
   ]
  },
  {
   "cell_type": "code",
   "execution_count": null,
   "metadata": {},
   "outputs": [],
   "source": [
    "import pickle\n",
    "with open(\"test.pkl\", \"wb\") as output_file:\n",
    "    pickle.dump(strvec,output_file)\n",
    "file = open(\"./test.pkl\",'rb')\n",
    "object_file = pickle.load(file)"
   ]
  },
  {
   "cell_type": "code",
   "execution_count": null,
   "metadata": {
    "scrolled": true
   },
   "outputs": [],
   "source": []
  },
  {
   "cell_type": "code",
   "execution_count": null,
   "metadata": {},
   "outputs": [],
   "source": []
  },
  {
   "cell_type": "code",
   "execution_count": null,
   "metadata": {},
   "outputs": [],
   "source": [
    "object_file"
   ]
  },
  {
   "cell_type": "code",
   "execution_count": null,
   "metadata": {},
   "outputs": [],
   "source": []
  },
  {
   "cell_type": "code",
   "execution_count": null,
   "metadata": {},
   "outputs": [],
   "source": [
    "import epub_conversion"
   ]
  },
  {
   "cell_type": "code",
   "execution_count": null,
   "metadata": {},
   "outputs": [],
   "source": [
    "converter = Converter(\"/home/space/Documents/text/epub-malayalam/\")"
   ]
  },
  {
   "cell_type": "code",
   "execution_count": null,
   "metadata": {},
   "outputs": [],
   "source": [
    "from ebooklib import epub\n",
    "import ebooklib"
   ]
  },
  {
   "cell_type": "code",
   "execution_count": null,
   "metadata": {},
   "outputs": [],
   "source": [
    "import PyPDF2 \n"
   ]
  },
  {
   "cell_type": "code",
   "execution_count": null,
   "metadata": {},
   "outputs": [],
   "source": [
    "#write a for-loop to open many files -- leave a comment if you'd #like to learn how\n",
    "\n",
    "filename = '/home/space/Documents/text/pdf-malayalam/The.Immortals.Of.Meluha[Malayalam]@PdfLibrary.pdf' \n",
    "\n",
    "#open allows you to read the file\n",
    "\n",
    "pdfFileObj = open(filename,'rb')\n",
    "\n",
    "#The pdfReader variable is a readable object that will be parsed\n",
    "\n",
    "pdfReader = PyPDF2.PdfFileReader(pdfFileObj)\n",
    "\n",
    "#discerning the number of pages will allow us to parse through all #the pages\n",
    "\n",
    "num_pages = pdfReader.numPages\n",
    "count = 0\n",
    "text = \"\"\n",
    "\n",
    "#The while loop will read each page\n",
    "while count < num_pages:\n",
    "    pageObj = pdfReader.getPage(count)\n",
    "    count +=1\n",
    "    text += pageObj.extractText()\n",
    "\n",
    "#This if statement exists to check if the above library returned #words. It's done because PyPDF2 cannot read scanned files.\n",
    "\n",
    "if text != \"\":\n",
    "   text = text\n",
    "\n",
    "#If the above returns as False, we run the OCR library textract to #convert scanned/image based PDF files into text\n",
    "\n",
    "else:\n",
    "   text = textract.process(fileurl, method='tesseract', language='mal')\n",
    "\n",
    "# Now we have a text variable which contains all the text derived #from our PDF file. Type print(text) to see what it contains. It #likely contains a lot of spaces, possibly junk such as '\\n' etc.\n",
    "\n",
    "# Now, we will clean our text variable, and return it as a list of keywords."
   ]
  },
  {
   "cell_type": "code",
   "execution_count": null,
   "metadata": {},
   "outputs": [],
   "source": [
    "text"
   ]
  },
  {
   "cell_type": "code",
   "execution_count": null,
   "metadata": {},
   "outputs": [],
   "source": [
    "pdf2txt.py /home/space/Documents/text/pdf-malayalam/The.Immortals.Of.Meluha[Malayalam]@PdfLibrary.pdf"
   ]
  },
  {
   "cell_type": "code",
   "execution_count": null,
   "metadata": {},
   "outputs": [],
   "source": [
    "import textract"
   ]
  },
  {
   "cell_type": "code",
   "execution_count": null,
   "metadata": {},
   "outputs": [],
   "source": [
    "text = text = textract.process(\"/home/space/Documents/text/pdf-malayalam/The.Oath.Of.The.Vayuputras.[Malayalam]@PdfLibrary.pdf\")"
   ]
  },
  {
   "cell_type": "code",
   "execution_count": null,
   "metadata": {},
   "outputs": [],
   "source": [
    "print(text[2000:2200].decode('utf-8'))"
   ]
  },
  {
   "cell_type": "code",
   "execution_count": null,
   "metadata": {},
   "outputs": [],
   "source": [
    "pdf2txt.py sample.pdf"
   ]
  },
  {
   "cell_type": "code",
   "execution_count": null,
   "metadata": {},
   "outputs": [],
   "source": [
    "import pdfminer"
   ]
  },
  {
   "cell_type": "code",
   "execution_count": null,
   "metadata": {},
   "outputs": [],
   "source": [
    "pdf2txt.py '/home/space/Documents/text/pdf-malayalam/The.Oath.Of.The.Vayuputras.[Malayalam]@PdfLibrary.pdf'"
   ]
  },
  {
   "cell_type": "code",
   "execution_count": null,
   "metadata": {},
   "outputs": [],
   "source": []
  }
 ],
 "metadata": {
  "kernelspec": {
   "display_name": "Python 3",
   "language": "python",
   "name": "python3"
  },
  "language_info": {
   "codemirror_mode": {
    "name": "ipython",
    "version": 3
   },
   "file_extension": ".py",
   "mimetype": "text/x-python",
   "name": "python",
   "nbconvert_exporter": "python",
   "pygments_lexer": "ipython3",
   "version": "3.6.7"
  }
 },
 "nbformat": 4,
 "nbformat_minor": 2
}
