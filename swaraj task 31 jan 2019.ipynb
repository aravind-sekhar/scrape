{
 "cells": [
  {
   "cell_type": "code",
   "execution_count": 173,
   "metadata": {},
   "outputs": [],
   "source": [
    "import os\n",
    "import re\n",
    "filelist=[]\n",
    "stri=''\n",
    "for root, dirs, files in os.walk(\"/home/space/Documents/text/wiki\"):\n",
    "    for file in files:\n",
    "        path=os.path.join(root,file)\n",
    "        with open(path) as f:\n",
    "            for line in f:\n",
    "                rpl=re.sub(r'<.*>','',line.strip())\n",
    "                if rpl:\n",
    "                    stri=stri+rpl"
   ]
  },
  {
   "cell_type": "code",
   "execution_count": 174,
   "metadata": {},
   "outputs": [],
   "source": [
    "import re\n",
    "stri=stri+rpl\n",
    "stri = re.sub(r'\\d|\\(|\\)|\\-','',stri)\n",
    "stri = re.sub(r'[A-Za-z]','',stri)\n",
    "stri = re.sub(r'[\\u200a-\\u200f\\'!\"#$%&\\'()*+\\-/:,;<=>?@\\[\\\\\\]^_`{|}~]','',stri)\n",
    "stri = re.sub(r'(\\..{0,2}\\.)|(\\s.{0,2}\\.)',' ',stri)\n",
    "stri = re.sub(r'(\\..{0,2}\\.)|(\\s.{0,2}\\.)',' ',stri)\n",
    "stri = re.sub(r'(\\s.{2}\\.)|(\\s.{0,2}\\s)|(\\s.{0,2}\\.)',' ',stri)\n",
    "stri = re.sub(r'(\\s.{2}\\.)|(\\s.{0,2}\\s)|(\\s.{0,2}\\.)',' ',stri)\n",
    "stri = re.sub(r'\\s\\.\\s',' ',stri)\n",
    "stri = re.sub(r'\\s\\.\\s',' ',stri)\n",
    "stri = re.sub(' +',' ',stri)\n",
    "#stri = re.split(r'(?<=[\\u0d00-\\u0d7f]{3})\\.', stri)\n"
   ]
  },
  {
   "cell_type": "code",
   "execution_count": 178,
   "metadata": {},
   "outputs": [
    {
     "name": "stdout",
     "output_type": "stream",
     "text": [
      "[('ഒരു', 99987)]\n"
     ]
    }
   ],
   "source": [
    "from collections import Counter \n",
    "  \n",
    "data_set = stri\n",
    "  \n",
    "# split() returns list of all the words in the string \n",
    "split_it = data_set.split() \n",
    "  \n",
    "# Pass the split_it list to instance of Counter class. \n",
    "Counter = Counter(split_it) \n",
    "  \n",
    "# most_common() produces k frequently encountered \n",
    "# input values and their respective counts. \n",
    "most_occur = Counter.most_common(1) \n",
    "print(most_occur) "
   ]
  },
  {
   "cell_type": "code",
   "execution_count": 166,
   "metadata": {},
   "outputs": [],
   "source": [
    "stri = re.split(r'(?<=[\\u0d00-\\u0d7f]{3})\\.', stri)\n",
    "sentvec=[]\n",
    "for i in stri:\n",
    "        sentvec.append((i.strip()).split(' '))"
   ]
  },
  {
   "cell_type": "code",
   "execution_count": 179,
   "metadata": {},
   "outputs": [],
   "source": [
    "most_occur = str(most_occur)  \n",
    "most_occur = re.sub(r'\\d|\\(|\\)|\\-','',most_occur)\n",
    "most_occur = re.sub(r'[\\u200a-\\u200f\\'!\"#$%&\\'()*+\\-/:,;<=>?@\\[\\\\\\]^_`{|}~]','',most_occur)\n",
    "most_occur = re.sub(' +',' ',most_occur)\n",
    "most_occur = re.split(r'(?<=[\\u0d00-\\u0d7f]{3})\\.', most_occur)\n",
    "strvec=[]\n",
    "for i in most_occur:\n",
    "        strvec.append((i.strip()).split(' '))\n"
   ]
  },
  {
   "cell_type": "code",
   "execution_count": 180,
   "metadata": {},
   "outputs": [
    {
     "data": {
      "text/plain": [
       "1"
      ]
     },
     "execution_count": 180,
     "metadata": {},
     "output_type": "execute_result"
    }
   ],
   "source": [
    "len(strvec)"
   ]
  },
  {
   "cell_type": "code",
   "execution_count": 181,
   "metadata": {},
   "outputs": [
    {
     "name": "stdout",
     "output_type": "stream",
     "text": [
      "ഒരു\n"
     ]
    }
   ],
   "source": [
    "for j in range(len(strvec)):\n",
    "    for m in range(len(strvec[j])):\n",
    "        word=strvec[j][m]\n",
    "        print(word)"
   ]
  },
  {
   "cell_type": "code",
   "execution_count": 138,
   "metadata": {},
   "outputs": [
    {
     "ename": "TypeError",
     "evalue": "'in <string>' requires string as left operand, not list",
     "output_type": "error",
     "traceback": [
      "\u001b[0;31m---------------------------------------------------------------------------\u001b[0m",
      "\u001b[0;31mTypeError\u001b[0m                                 Traceback (most recent call last)",
      "\u001b[0;32m<ipython-input-138-783da9bc2b2a>\u001b[0m in \u001b[0;36m<module>\u001b[0;34m\u001b[0m\n\u001b[1;32m      4\u001b[0m         \u001b[0msentence\u001b[0m\u001b[0;34m=\u001b[0m\u001b[0mstr\u001b[0m\u001b[0;34m(\u001b[0m\u001b[0mi\u001b[0m\u001b[0;34m)\u001b[0m\u001b[0;34m\u001b[0m\u001b[0m\n\u001b[1;32m      5\u001b[0m         \u001b[0msentence\u001b[0m\u001b[0;34m.\u001b[0m\u001b[0msplit\u001b[0m\u001b[0;34m(\u001b[0m\u001b[0;34m)\u001b[0m\u001b[0;34m\u001b[0m\u001b[0m\n\u001b[0;32m----> 6\u001b[0;31m         \u001b[0;32mif\u001b[0m \u001b[0mword\u001b[0m \u001b[0;32min\u001b[0m \u001b[0msentence\u001b[0m\u001b[0;34m:\u001b[0m\u001b[0;34m\u001b[0m\u001b[0m\n\u001b[0m\u001b[1;32m      7\u001b[0m             \u001b[0mwordinsentence\u001b[0m\u001b[0;34m.\u001b[0m\u001b[0mappend\u001b[0m\u001b[0;34m(\u001b[0m\u001b[0msentence\u001b[0m\u001b[0;34m.\u001b[0m\u001b[0mstrip\u001b[0m\u001b[0;34m(\u001b[0m\u001b[0;34m)\u001b[0m\u001b[0;34m.\u001b[0m\u001b[0msplit\u001b[0m\u001b[0;34m(\u001b[0m\u001b[0;34m' '\u001b[0m\u001b[0;34m)\u001b[0m\u001b[0;34m)\u001b[0m\u001b[0;34m\u001b[0m\u001b[0m\n\u001b[1;32m      8\u001b[0m             \u001b[0;32mfor\u001b[0m \u001b[0mk\u001b[0m \u001b[0;32min\u001b[0m \u001b[0mrange\u001b[0m\u001b[0;34m(\u001b[0m\u001b[0mlen\u001b[0m\u001b[0;34m(\u001b[0m\u001b[0mwordinsentence\u001b[0m\u001b[0;34m)\u001b[0m\u001b[0;34m)\u001b[0m\u001b[0;34m:\u001b[0m\u001b[0;34m\u001b[0m\u001b[0m\n",
      "\u001b[0;31mTypeError\u001b[0m: 'in <string>' requires string as left operand, not list"
     ]
    }
   ],
   "source": [
    "for j in range(len(strvec)):\n",
    "    for m in range(len(strvec[j])):\n",
    "        word=strvec[j][m]\n",
    "        for i in sentvec:\n",
    "            sentence=str(i)\n",
    "            sentence.split()\n",
    "            if word in sentence:\n",
    "                wordinsentence.append(sentence.strip().split(' '))\n",
    "                for k in range(len(wordinsentence)):\n",
    "                    #print(len(wordinsentence[i]),wordinsentence[i])\n",
    "                    if len(wordinsentence[k]) < 5:\n",
    "                        del wordinsentence[k]\n",
    "        "
   ]
  },
  {
   "cell_type": "code",
   "execution_count": null,
   "metadata": {},
   "outputs": [],
   "source": []
  },
  {
   "cell_type": "code",
   "execution_count": null,
   "metadata": {},
   "outputs": [],
   "source": [
    "wordinsentence=[]\n",
    "finalsent=[]\n",
    "#for j in strvec[200:250]:\n",
    "for j in range(len(strvec)):\n",
    "    for m in range(len(strvec[j])):\n",
    "        word=strvec[j][m]\n",
    "        for i in sentvec:\n",
    "            sentence=str(i)\n",
    "            sentence.split()\n",
    "            if word in sentence:\n",
    "                wordinsentence.append(sentence.strip().split(' '))\n",
    "                for k in range(len(wordinsentence)):\n",
    "                    #print(len(wordinsentence[i]),wordinsentence[i])\n",
    "                    if len(wordinsentence[k]) < 5:\n",
    "                        del wordinsentence[k]\n",
    "finalsent.append(min(wordinsentence, key=len))       \n",
    "finalsent = re.sub(r'[\\u200a-\\u200f\\'!\"#$%&\\'()*+\\-/:,;<=>?@\\[\\\\\\]^_`{|}~]','',str(finalsent))\n",
    "finalsent = finalsent+\"\\n\"       \n",
    "    \n",
    "    \n",
    "            "
   ]
  },
  {
   "cell_type": "code",
   "execution_count": 96,
   "metadata": {},
   "outputs": [],
   "source": [
    "for k in range(len(wordinsentence)):\n",
    "    #print(len(wordinsentence[i]),wordinsentence[i])\n",
    "    if len(wordinsentence[k]) < 4:\n",
    "        del wordinsentence[k]"
   ]
  },
  {
   "cell_type": "code",
   "execution_count": 135,
   "metadata": {},
   "outputs": [
    {
     "data": {
      "text/plain": [
       "'ഇത് ഒരു അഹിംസാപരമായ സമരമായാണു തുടങ്ങിയത്\\n'"
      ]
     },
     "execution_count": 135,
     "metadata": {},
     "output_type": "execute_result"
    }
   ],
   "source": [
    "(finalsent)"
   ]
  },
  {
   "cell_type": "code",
   "execution_count": 108,
   "metadata": {},
   "outputs": [
    {
     "data": {
      "text/plain": [
       "[[\"['മറ്റുള്ളവരോടുള്ള',\",\n",
       "  \"'തുറന്ന',\",\n",
       "  \"'സമീപനവും',\",\n",
       "  \"'അഹിംസാപരമായ',\",\n",
       "  \"'തത്ത്വചിന്തയും',\",\n",
       "  \"'അദ്ദേഹത്തിന്റെ',\",\n",
       "  \"'മുഖമുദ്രകളായിരുന്നു']\"],\n",
       " [\"['ഇത്',\", \"'ഒരു',\", \"'അഹിംസാപരമായ',\", \"'സമരമായാണു',\", \"'തുടങ്ങിയത്']\"],\n",
       " [\"['വർണവിവേചനത്തിനെതിരായ',\",\n",
       "  \"'അഹിംസാപരമായ',\",\n",
       "  \"'പോരാട്ടത്തിൽ',\",\n",
       "  \"'പങ്കുവഹിച്ചതിൻറെ',\",\n",
       "  \"'ബഹുമതിക്ക്',\",\n",
       "  \"'സമാധാനത്തിനുള്ള',\",\n",
       "  \"'നൊബേൽ',\",\n",
       "  \"'സമ്മാനം',\",\n",
       "  \"'അദ്ദേഹത്തിനു',\",\n",
       "  \"'ലഭിച്ചിരുന്നു']\"],\n",
       " [\"['ഇതിനെ',\",\n",
       "  \"'ചിലപ്പോൾ',\",\n",
       "  \"'അഹിംസാപരമായ',\",\n",
       "  \"'സിവിൽ',\",\n",
       "  \"'നിയമലംഘനം',\",\n",
       "  \"'എന്നു',\",\n",
       "  \"'വിളിക്കാറുണ്ട്']\"],\n",
       " [\"['സിവിൽ',\",\n",
       "  \"'നിയമലംഘനം',\",\n",
       "  \"'അഹിംസാപരമായ',\",\n",
       "  \"'സമരങ്ങൾക്കു',\",\n",
       "  \"'തുല്യമായി',\",\n",
       "  \"'കരുതപ്പെടുന്നു']\"]]"
      ]
     },
     "execution_count": 108,
     "metadata": {},
     "output_type": "execute_result"
    }
   ],
   "source": [
    "wordinsentence"
   ]
  },
  {
   "cell_type": "code",
   "execution_count": null,
   "metadata": {},
   "outputs": [],
   "source": []
  }
 ],
 "metadata": {
  "kernelspec": {
   "display_name": "Python 3",
   "language": "python",
   "name": "python3"
  },
  "language_info": {
   "codemirror_mode": {
    "name": "ipython",
    "version": 3
   },
   "file_extension": ".py",
   "mimetype": "text/x-python",
   "name": "python",
   "nbconvert_exporter": "python",
   "pygments_lexer": "ipython3",
   "version": "3.5.3"
  }
 },
 "nbformat": 4,
 "nbformat_minor": 2
}
